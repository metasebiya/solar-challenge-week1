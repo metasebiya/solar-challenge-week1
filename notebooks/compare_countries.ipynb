{
 "cells": [
  {
   "cell_type": "markdown",
   "id": "58efa674-6993-44c2-854f-95b19a7cb76d",
   "metadata": {},
   "source": [
    "## Load three datasets"
   ]
  },
  {
   "cell_type": "code",
   "execution_count": 53,
   "id": "8469db6d-93a8-402c-8cf7-db39d9120532",
   "metadata": {},
   "outputs": [],
   "source": [
    "import pandas as pd\n",
    "import numpy as np\n",
    "import matplotlib.pyplot as plt\n",
    "import seaborn as sns"
   ]
  },
  {
   "cell_type": "code",
   "execution_count": 55,
   "id": "75c258e9-dd92-414a-9b2b-b41657ffa3ce",
   "metadata": {},
   "outputs": [],
   "source": [
    "def load_datasets(*filepaths):\n",
    "    dataframes = []\n",
    "    for path in filepaths:\n",
    "        try:\n",
    "            df = pd.read_csv(path)\n",
    "            dataframes.append(df)\n",
    "        except Exception as e:\n",
    "            print(f\"Error loading {path}: {e}\")\n",
    "            dataframes.append(None)\n",
    "    return dataframes"
   ]
  },
  {
   "cell_type": "code",
   "execution_count": 57,
   "id": "04a0d8b1-4de9-4356-9e34-7a36683835fc",
   "metadata": {},
   "outputs": [],
   "source": [
    "file_1 = '../data/benin_clean.csv'\n",
    "file_2 = '../data/togo_clean.csv'\n",
    "file_3 = '../data/sierraleone_clean.csv'\n",
    "df_benin, df_togo, df_sierraleone = load_datasets(file_1, file_2, file_3)\n",
    "\n",
    "df_benin['Country'] = 'Benin'\n",
    "df_togo['Country'] = 'Togo'\n",
    "df_sierraleone['Country'] = 'Sierra Leone'"
   ]
  },
  {
   "cell_type": "code",
   "execution_count": null,
   "id": "ed9510d7-ddce-4195-a0e3-ce172fe86e03",
   "metadata": {},
   "outputs": [],
   "source": []
  }
 ],
 "metadata": {
  "kernelspec": {
   "display_name": "Python 3 (ipykernel)",
   "language": "python",
   "name": "python3"
  },
  "language_info": {
   "codemirror_mode": {
    "name": "ipython",
    "version": 3
   },
   "file_extension": ".py",
   "mimetype": "text/x-python",
   "name": "python",
   "nbconvert_exporter": "python",
   "pygments_lexer": "ipython3",
   "version": "3.12.4"
  }
 },
 "nbformat": 4,
 "nbformat_minor": 5
}
