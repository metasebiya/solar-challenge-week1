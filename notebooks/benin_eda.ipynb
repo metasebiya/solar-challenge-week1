{
 "cells": [
  {
   "cell_type": "markdown",
   "id": "9f20f8d8-afe8-4f1d-9966-85d78aac4b85",
   "metadata": {},
   "source": [
    "# Exploratory Data Analysis for Solar Radiation Data\n",
    "## 1. Import Libraries"
   ]
  },
  {
   "cell_type": "code",
   "execution_count": 114,
   "id": "e8f75842-40ed-44a5-a5fa-18e9cfe585ce",
   "metadata": {},
   "outputs": [],
   "source": [
    "import pandas as pd\n",
    "import numpy as np\n",
    "import matplotlib.pyplot as plt\n",
    "import seaborn as sns\n",
    "from scipy.stats import zscore"
   ]
  },
  {
   "cell_type": "markdown",
   "id": "b9c47e63-aa72-47ba-b8e7-e37e4549cd66",
   "metadata": {},
   "source": [
    "## 2. Importing Data"
   ]
  },
  {
   "cell_type": "code",
   "execution_count": 79,
   "id": "a9b91eae-1d52-4d0a-8680-76a69493df3b",
   "metadata": {},
   "outputs": [],
   "source": [
    "df = pd.read_csv('../data/benin-malanville.csv')"
   ]
  },
  {
   "cell_type": "markdown",
   "id": "da3454a8-9777-4627-8354-2a3ef60a615c",
   "metadata": {},
   "source": [
    "## 3. Data Overview"
   ]
  },
  {
   "cell_type": "code",
   "execution_count": 81,
   "id": "621cea41-3659-40b6-acd2-176cce782223",
   "metadata": {},
   "outputs": [
    {
     "data": {
      "text/html": [
       "<div>\n",
       "<style scoped>\n",
       "    .dataframe tbody tr th:only-of-type {\n",
       "        vertical-align: middle;\n",
       "    }\n",
       "\n",
       "    .dataframe tbody tr th {\n",
       "        vertical-align: top;\n",
       "    }\n",
       "\n",
       "    .dataframe thead th {\n",
       "        text-align: right;\n",
       "    }\n",
       "</style>\n",
       "<table border=\"1\" class=\"dataframe\">\n",
       "  <thead>\n",
       "    <tr style=\"text-align: right;\">\n",
       "      <th></th>\n",
       "      <th>Timestamp</th>\n",
       "      <th>GHI</th>\n",
       "      <th>DNI</th>\n",
       "      <th>DHI</th>\n",
       "      <th>ModA</th>\n",
       "      <th>ModB</th>\n",
       "      <th>Tamb</th>\n",
       "      <th>RH</th>\n",
       "      <th>WS</th>\n",
       "      <th>WSgust</th>\n",
       "      <th>WSstdev</th>\n",
       "      <th>WD</th>\n",
       "      <th>WDstdev</th>\n",
       "      <th>BP</th>\n",
       "      <th>Cleaning</th>\n",
       "      <th>Precipitation</th>\n",
       "      <th>TModA</th>\n",
       "      <th>TModB</th>\n",
       "      <th>Comments</th>\n",
       "    </tr>\n",
       "  </thead>\n",
       "  <tbody>\n",
       "    <tr>\n",
       "      <th>0</th>\n",
       "      <td>2021-08-09 00:01</td>\n",
       "      <td>-1.2</td>\n",
       "      <td>-0.2</td>\n",
       "      <td>-1.1</td>\n",
       "      <td>0.0</td>\n",
       "      <td>0.0</td>\n",
       "      <td>26.2</td>\n",
       "      <td>93.4</td>\n",
       "      <td>0.0</td>\n",
       "      <td>0.4</td>\n",
       "      <td>0.1</td>\n",
       "      <td>122.1</td>\n",
       "      <td>0.0</td>\n",
       "      <td>998</td>\n",
       "      <td>0</td>\n",
       "      <td>0.0</td>\n",
       "      <td>26.3</td>\n",
       "      <td>26.2</td>\n",
       "      <td>NaN</td>\n",
       "    </tr>\n",
       "    <tr>\n",
       "      <th>1</th>\n",
       "      <td>2021-08-09 00:02</td>\n",
       "      <td>-1.1</td>\n",
       "      <td>-0.2</td>\n",
       "      <td>-1.1</td>\n",
       "      <td>0.0</td>\n",
       "      <td>0.0</td>\n",
       "      <td>26.2</td>\n",
       "      <td>93.6</td>\n",
       "      <td>0.0</td>\n",
       "      <td>0.0</td>\n",
       "      <td>0.0</td>\n",
       "      <td>0.0</td>\n",
       "      <td>0.0</td>\n",
       "      <td>998</td>\n",
       "      <td>0</td>\n",
       "      <td>0.0</td>\n",
       "      <td>26.3</td>\n",
       "      <td>26.2</td>\n",
       "      <td>NaN</td>\n",
       "    </tr>\n",
       "    <tr>\n",
       "      <th>2</th>\n",
       "      <td>2021-08-09 00:03</td>\n",
       "      <td>-1.1</td>\n",
       "      <td>-0.2</td>\n",
       "      <td>-1.1</td>\n",
       "      <td>0.0</td>\n",
       "      <td>0.0</td>\n",
       "      <td>26.2</td>\n",
       "      <td>93.7</td>\n",
       "      <td>0.3</td>\n",
       "      <td>1.1</td>\n",
       "      <td>0.5</td>\n",
       "      <td>124.6</td>\n",
       "      <td>1.5</td>\n",
       "      <td>997</td>\n",
       "      <td>0</td>\n",
       "      <td>0.0</td>\n",
       "      <td>26.4</td>\n",
       "      <td>26.2</td>\n",
       "      <td>NaN</td>\n",
       "    </tr>\n",
       "    <tr>\n",
       "      <th>3</th>\n",
       "      <td>2021-08-09 00:04</td>\n",
       "      <td>-1.1</td>\n",
       "      <td>-0.1</td>\n",
       "      <td>-1.0</td>\n",
       "      <td>0.0</td>\n",
       "      <td>0.0</td>\n",
       "      <td>26.2</td>\n",
       "      <td>93.3</td>\n",
       "      <td>0.2</td>\n",
       "      <td>0.7</td>\n",
       "      <td>0.4</td>\n",
       "      <td>120.3</td>\n",
       "      <td>1.3</td>\n",
       "      <td>997</td>\n",
       "      <td>0</td>\n",
       "      <td>0.0</td>\n",
       "      <td>26.4</td>\n",
       "      <td>26.3</td>\n",
       "      <td>NaN</td>\n",
       "    </tr>\n",
       "    <tr>\n",
       "      <th>4</th>\n",
       "      <td>2021-08-09 00:05</td>\n",
       "      <td>-1.0</td>\n",
       "      <td>-0.1</td>\n",
       "      <td>-1.0</td>\n",
       "      <td>0.0</td>\n",
       "      <td>0.0</td>\n",
       "      <td>26.2</td>\n",
       "      <td>93.3</td>\n",
       "      <td>0.1</td>\n",
       "      <td>0.7</td>\n",
       "      <td>0.3</td>\n",
       "      <td>113.2</td>\n",
       "      <td>1.0</td>\n",
       "      <td>997</td>\n",
       "      <td>0</td>\n",
       "      <td>0.0</td>\n",
       "      <td>26.4</td>\n",
       "      <td>26.3</td>\n",
       "      <td>NaN</td>\n",
       "    </tr>\n",
       "  </tbody>\n",
       "</table>\n",
       "</div>"
      ],
      "text/plain": [
       "          Timestamp  GHI  DNI  DHI  ModA  ModB  Tamb    RH   WS  WSgust  \\\n",
       "0  2021-08-09 00:01 -1.2 -0.2 -1.1   0.0   0.0  26.2  93.4  0.0     0.4   \n",
       "1  2021-08-09 00:02 -1.1 -0.2 -1.1   0.0   0.0  26.2  93.6  0.0     0.0   \n",
       "2  2021-08-09 00:03 -1.1 -0.2 -1.1   0.0   0.0  26.2  93.7  0.3     1.1   \n",
       "3  2021-08-09 00:04 -1.1 -0.1 -1.0   0.0   0.0  26.2  93.3  0.2     0.7   \n",
       "4  2021-08-09 00:05 -1.0 -0.1 -1.0   0.0   0.0  26.2  93.3  0.1     0.7   \n",
       "\n",
       "   WSstdev     WD  WDstdev   BP  Cleaning  Precipitation  TModA  TModB  \\\n",
       "0      0.1  122.1      0.0  998         0            0.0   26.3   26.2   \n",
       "1      0.0    0.0      0.0  998         0            0.0   26.3   26.2   \n",
       "2      0.5  124.6      1.5  997         0            0.0   26.4   26.2   \n",
       "3      0.4  120.3      1.3  997         0            0.0   26.4   26.3   \n",
       "4      0.3  113.2      1.0  997         0            0.0   26.4   26.3   \n",
       "\n",
       "   Comments  \n",
       "0       NaN  \n",
       "1       NaN  \n",
       "2       NaN  \n",
       "3       NaN  \n",
       "4       NaN  "
      ]
     },
     "execution_count": 81,
     "metadata": {},
     "output_type": "execute_result"
    }
   ],
   "source": [
    "df.head()"
   ]
  },
  {
   "cell_type": "code",
   "execution_count": 82,
   "id": "1b3104d1-93f9-4aac-b744-051125b5f811",
   "metadata": {},
   "outputs": [
    {
     "data": {
      "text/plain": [
       "Index(['Timestamp', 'GHI', 'DNI', 'DHI', 'ModA', 'ModB', 'Tamb', 'RH', 'WS',\n",
       "       'WSgust', 'WSstdev', 'WD', 'WDstdev', 'BP', 'Cleaning', 'Precipitation',\n",
       "       'TModA', 'TModB', 'Comments'],\n",
       "      dtype='object')"
      ]
     },
     "execution_count": 82,
     "metadata": {},
     "output_type": "execute_result"
    }
   ],
   "source": [
    "df.columns"
   ]
  },
  {
   "cell_type": "code",
   "execution_count": 83,
   "id": "5a8cc45f-8f57-4e6f-937c-d5cd0754bbaa",
   "metadata": {},
   "outputs": [
    {
     "data": {
      "text/plain": [
       "<bound method DataFrame.info of                Timestamp  GHI  DNI  DHI  ModA  ModB  Tamb    RH   WS  WSgust  \\\n",
       "0       2021-08-09 00:01 -1.2 -0.2 -1.1   0.0   0.0  26.2  93.4  0.0     0.4   \n",
       "1       2021-08-09 00:02 -1.1 -0.2 -1.1   0.0   0.0  26.2  93.6  0.0     0.0   \n",
       "2       2021-08-09 00:03 -1.1 -0.2 -1.1   0.0   0.0  26.2  93.7  0.3     1.1   \n",
       "3       2021-08-09 00:04 -1.1 -0.1 -1.0   0.0   0.0  26.2  93.3  0.2     0.7   \n",
       "4       2021-08-09 00:05 -1.0 -0.1 -1.0   0.0   0.0  26.2  93.3  0.1     0.7   \n",
       "...                  ...  ...  ...  ...   ...   ...   ...   ...  ...     ...   \n",
       "525595  2022-08-08 23:56 -5.5 -0.1 -5.9   0.0   0.0  23.1  98.3  0.3     1.1   \n",
       "525596  2022-08-08 23:57 -5.5 -0.1 -5.8   0.0   0.0  23.1  98.3  0.2     0.7   \n",
       "525597  2022-08-08 23:58 -5.5 -0.1 -5.8   0.0   0.0  23.1  98.4  0.6     1.1   \n",
       "525598  2022-08-08 23:59 -5.5 -0.1 -5.8   0.0   0.0  23.1  98.3  0.9     1.3   \n",
       "525599  2022-08-09 00:00 -5.5 -0.1 -5.7   0.0   0.0  23.1  98.3  1.2     1.6   \n",
       "\n",
       "        WSstdev     WD  WDstdev   BP  Cleaning  Precipitation  TModA  TModB  \\\n",
       "0           0.1  122.1      0.0  998         0            0.0   26.3   26.2   \n",
       "1           0.0    0.0      0.0  998         0            0.0   26.3   26.2   \n",
       "2           0.5  124.6      1.5  997         0            0.0   26.4   26.2   \n",
       "3           0.4  120.3      1.3  997         0            0.0   26.4   26.3   \n",
       "4           0.3  113.2      1.0  997         0            0.0   26.4   26.3   \n",
       "...         ...    ...      ...  ...       ...            ...    ...    ...   \n",
       "525595      0.5  119.3      4.1  996         0            0.0   23.5   22.9   \n",
       "525596      0.4  115.2      2.3  996         0            0.0   23.5   22.9   \n",
       "525597      0.5  129.8      3.4  996         0            0.0   23.5   22.9   \n",
       "525598      0.5  124.4      4.3  996         0            0.0   23.5   22.9   \n",
       "525599      0.3  124.1      5.9  996         0            0.0   23.5   22.9   \n",
       "\n",
       "        Comments  \n",
       "0            NaN  \n",
       "1            NaN  \n",
       "2            NaN  \n",
       "3            NaN  \n",
       "4            NaN  \n",
       "...          ...  \n",
       "525595       NaN  \n",
       "525596       NaN  \n",
       "525597       NaN  \n",
       "525598       NaN  \n",
       "525599       NaN  \n",
       "\n",
       "[525600 rows x 19 columns]>"
      ]
     },
     "execution_count": 83,
     "metadata": {},
     "output_type": "execute_result"
    }
   ],
   "source": [
    "df.info"
   ]
  },
  {
   "cell_type": "code",
   "execution_count": 84,
   "id": "bf02968b-97da-46e2-8295-92ec1e22b252",
   "metadata": {},
   "outputs": [
    {
     "data": {
      "text/plain": [
       "(525600, 19)"
      ]
     },
     "execution_count": 84,
     "metadata": {},
     "output_type": "execute_result"
    }
   ],
   "source": [
    "df.shape"
   ]
  },
  {
   "cell_type": "code",
   "execution_count": 85,
   "id": "02273808-c446-46a8-9b70-7d2748d68c18",
   "metadata": {},
   "outputs": [
    {
     "data": {
      "text/plain": [
       "Timestamp         object\n",
       "GHI              float64\n",
       "DNI              float64\n",
       "DHI              float64\n",
       "ModA             float64\n",
       "ModB             float64\n",
       "Tamb             float64\n",
       "RH               float64\n",
       "WS               float64\n",
       "WSgust           float64\n",
       "WSstdev          float64\n",
       "WD               float64\n",
       "WDstdev          float64\n",
       "BP                 int64\n",
       "Cleaning           int64\n",
       "Precipitation    float64\n",
       "TModA            float64\n",
       "TModB            float64\n",
       "Comments         float64\n",
       "dtype: object"
      ]
     },
     "execution_count": 85,
     "metadata": {},
     "output_type": "execute_result"
    }
   ],
   "source": [
    "df.dtypes\t"
   ]
  },
  {
   "cell_type": "markdown",
   "id": "080ad674-7952-46b3-8006-d1a044291ec2",
   "metadata": {},
   "source": [
    "## Summary Statistics and Missing-Value Report"
   ]
  },
  {
   "cell_type": "code",
   "execution_count": 87,
   "id": "aad1e6b8-095e-4a40-9e13-532cbbc9db13",
   "metadata": {},
   "outputs": [
    {
     "data": {
      "text/html": [
       "<div>\n",
       "<style scoped>\n",
       "    .dataframe tbody tr th:only-of-type {\n",
       "        vertical-align: middle;\n",
       "    }\n",
       "\n",
       "    .dataframe tbody tr th {\n",
       "        vertical-align: top;\n",
       "    }\n",
       "\n",
       "    .dataframe thead th {\n",
       "        text-align: right;\n",
       "    }\n",
       "</style>\n",
       "<table border=\"1\" class=\"dataframe\">\n",
       "  <thead>\n",
       "    <tr style=\"text-align: right;\">\n",
       "      <th></th>\n",
       "      <th>GHI</th>\n",
       "      <th>DNI</th>\n",
       "      <th>DHI</th>\n",
       "      <th>ModA</th>\n",
       "      <th>ModB</th>\n",
       "      <th>Tamb</th>\n",
       "      <th>RH</th>\n",
       "      <th>WS</th>\n",
       "      <th>WSgust</th>\n",
       "      <th>WSstdev</th>\n",
       "      <th>WD</th>\n",
       "      <th>WDstdev</th>\n",
       "      <th>BP</th>\n",
       "      <th>Cleaning</th>\n",
       "      <th>Precipitation</th>\n",
       "      <th>TModA</th>\n",
       "      <th>TModB</th>\n",
       "      <th>Comments</th>\n",
       "    </tr>\n",
       "  </thead>\n",
       "  <tbody>\n",
       "    <tr>\n",
       "      <th>count</th>\n",
       "      <td>525600.000000</td>\n",
       "      <td>525600.000000</td>\n",
       "      <td>525600.000000</td>\n",
       "      <td>525600.000000</td>\n",
       "      <td>525600.000000</td>\n",
       "      <td>525600.000000</td>\n",
       "      <td>525600.000000</td>\n",
       "      <td>525600.000000</td>\n",
       "      <td>525600.000000</td>\n",
       "      <td>525600.000000</td>\n",
       "      <td>525600.000000</td>\n",
       "      <td>525600.000000</td>\n",
       "      <td>525600.000000</td>\n",
       "      <td>525600.000000</td>\n",
       "      <td>525600.000000</td>\n",
       "      <td>525600.000000</td>\n",
       "      <td>525600.000000</td>\n",
       "      <td>0.0</td>\n",
       "    </tr>\n",
       "    <tr>\n",
       "      <th>mean</th>\n",
       "      <td>240.559452</td>\n",
       "      <td>167.187516</td>\n",
       "      <td>115.358961</td>\n",
       "      <td>236.589496</td>\n",
       "      <td>228.883576</td>\n",
       "      <td>28.179683</td>\n",
       "      <td>54.487969</td>\n",
       "      <td>2.121113</td>\n",
       "      <td>2.809195</td>\n",
       "      <td>0.473390</td>\n",
       "      <td>153.435172</td>\n",
       "      <td>8.582407</td>\n",
       "      <td>994.197199</td>\n",
       "      <td>0.000923</td>\n",
       "      <td>0.001905</td>\n",
       "      <td>35.246026</td>\n",
       "      <td>32.471736</td>\n",
       "      <td>NaN</td>\n",
       "    </tr>\n",
       "    <tr>\n",
       "      <th>std</th>\n",
       "      <td>331.131327</td>\n",
       "      <td>261.710501</td>\n",
       "      <td>158.691074</td>\n",
       "      <td>326.894859</td>\n",
       "      <td>316.536515</td>\n",
       "      <td>5.924297</td>\n",
       "      <td>28.073069</td>\n",
       "      <td>1.603466</td>\n",
       "      <td>2.029120</td>\n",
       "      <td>0.273395</td>\n",
       "      <td>102.332842</td>\n",
       "      <td>6.385864</td>\n",
       "      <td>2.474993</td>\n",
       "      <td>0.030363</td>\n",
       "      <td>0.037115</td>\n",
       "      <td>14.807258</td>\n",
       "      <td>12.348743</td>\n",
       "      <td>NaN</td>\n",
       "    </tr>\n",
       "    <tr>\n",
       "      <th>min</th>\n",
       "      <td>-12.900000</td>\n",
       "      <td>-7.800000</td>\n",
       "      <td>-12.600000</td>\n",
       "      <td>0.000000</td>\n",
       "      <td>0.000000</td>\n",
       "      <td>11.000000</td>\n",
       "      <td>2.100000</td>\n",
       "      <td>0.000000</td>\n",
       "      <td>0.000000</td>\n",
       "      <td>0.000000</td>\n",
       "      <td>0.000000</td>\n",
       "      <td>0.000000</td>\n",
       "      <td>985.000000</td>\n",
       "      <td>0.000000</td>\n",
       "      <td>0.000000</td>\n",
       "      <td>9.000000</td>\n",
       "      <td>8.100000</td>\n",
       "      <td>NaN</td>\n",
       "    </tr>\n",
       "    <tr>\n",
       "      <th>25%</th>\n",
       "      <td>-2.000000</td>\n",
       "      <td>-0.500000</td>\n",
       "      <td>-2.100000</td>\n",
       "      <td>0.000000</td>\n",
       "      <td>0.000000</td>\n",
       "      <td>24.200000</td>\n",
       "      <td>28.800000</td>\n",
       "      <td>1.000000</td>\n",
       "      <td>1.300000</td>\n",
       "      <td>0.400000</td>\n",
       "      <td>59.000000</td>\n",
       "      <td>3.700000</td>\n",
       "      <td>993.000000</td>\n",
       "      <td>0.000000</td>\n",
       "      <td>0.000000</td>\n",
       "      <td>24.200000</td>\n",
       "      <td>23.600000</td>\n",
       "      <td>NaN</td>\n",
       "    </tr>\n",
       "    <tr>\n",
       "      <th>50%</th>\n",
       "      <td>1.800000</td>\n",
       "      <td>-0.100000</td>\n",
       "      <td>1.600000</td>\n",
       "      <td>4.500000</td>\n",
       "      <td>4.300000</td>\n",
       "      <td>28.000000</td>\n",
       "      <td>55.100000</td>\n",
       "      <td>1.900000</td>\n",
       "      <td>2.600000</td>\n",
       "      <td>0.500000</td>\n",
       "      <td>181.000000</td>\n",
       "      <td>8.600000</td>\n",
       "      <td>994.000000</td>\n",
       "      <td>0.000000</td>\n",
       "      <td>0.000000</td>\n",
       "      <td>30.000000</td>\n",
       "      <td>28.900000</td>\n",
       "      <td>NaN</td>\n",
       "    </tr>\n",
       "    <tr>\n",
       "      <th>75%</th>\n",
       "      <td>483.400000</td>\n",
       "      <td>314.200000</td>\n",
       "      <td>216.300000</td>\n",
       "      <td>463.700000</td>\n",
       "      <td>447.900000</td>\n",
       "      <td>32.300000</td>\n",
       "      <td>80.100000</td>\n",
       "      <td>3.100000</td>\n",
       "      <td>4.100000</td>\n",
       "      <td>0.600000</td>\n",
       "      <td>235.100000</td>\n",
       "      <td>12.300000</td>\n",
       "      <td>996.000000</td>\n",
       "      <td>0.000000</td>\n",
       "      <td>0.000000</td>\n",
       "      <td>46.900000</td>\n",
       "      <td>41.500000</td>\n",
       "      <td>NaN</td>\n",
       "    </tr>\n",
       "    <tr>\n",
       "      <th>max</th>\n",
       "      <td>1413.000000</td>\n",
       "      <td>952.300000</td>\n",
       "      <td>759.200000</td>\n",
       "      <td>1342.300000</td>\n",
       "      <td>1342.300000</td>\n",
       "      <td>43.800000</td>\n",
       "      <td>100.000000</td>\n",
       "      <td>19.500000</td>\n",
       "      <td>26.600000</td>\n",
       "      <td>4.200000</td>\n",
       "      <td>360.000000</td>\n",
       "      <td>99.400000</td>\n",
       "      <td>1003.000000</td>\n",
       "      <td>1.000000</td>\n",
       "      <td>2.500000</td>\n",
       "      <td>81.000000</td>\n",
       "      <td>72.500000</td>\n",
       "      <td>NaN</td>\n",
       "    </tr>\n",
       "  </tbody>\n",
       "</table>\n",
       "</div>"
      ],
      "text/plain": [
       "                 GHI            DNI            DHI           ModA  \\\n",
       "count  525600.000000  525600.000000  525600.000000  525600.000000   \n",
       "mean      240.559452     167.187516     115.358961     236.589496   \n",
       "std       331.131327     261.710501     158.691074     326.894859   \n",
       "min       -12.900000      -7.800000     -12.600000       0.000000   \n",
       "25%        -2.000000      -0.500000      -2.100000       0.000000   \n",
       "50%         1.800000      -0.100000       1.600000       4.500000   \n",
       "75%       483.400000     314.200000     216.300000     463.700000   \n",
       "max      1413.000000     952.300000     759.200000    1342.300000   \n",
       "\n",
       "                ModB           Tamb             RH             WS  \\\n",
       "count  525600.000000  525600.000000  525600.000000  525600.000000   \n",
       "mean      228.883576      28.179683      54.487969       2.121113   \n",
       "std       316.536515       5.924297      28.073069       1.603466   \n",
       "min         0.000000      11.000000       2.100000       0.000000   \n",
       "25%         0.000000      24.200000      28.800000       1.000000   \n",
       "50%         4.300000      28.000000      55.100000       1.900000   \n",
       "75%       447.900000      32.300000      80.100000       3.100000   \n",
       "max      1342.300000      43.800000     100.000000      19.500000   \n",
       "\n",
       "              WSgust        WSstdev             WD        WDstdev  \\\n",
       "count  525600.000000  525600.000000  525600.000000  525600.000000   \n",
       "mean        2.809195       0.473390     153.435172       8.582407   \n",
       "std         2.029120       0.273395     102.332842       6.385864   \n",
       "min         0.000000       0.000000       0.000000       0.000000   \n",
       "25%         1.300000       0.400000      59.000000       3.700000   \n",
       "50%         2.600000       0.500000     181.000000       8.600000   \n",
       "75%         4.100000       0.600000     235.100000      12.300000   \n",
       "max        26.600000       4.200000     360.000000      99.400000   \n",
       "\n",
       "                  BP       Cleaning  Precipitation          TModA  \\\n",
       "count  525600.000000  525600.000000  525600.000000  525600.000000   \n",
       "mean      994.197199       0.000923       0.001905      35.246026   \n",
       "std         2.474993       0.030363       0.037115      14.807258   \n",
       "min       985.000000       0.000000       0.000000       9.000000   \n",
       "25%       993.000000       0.000000       0.000000      24.200000   \n",
       "50%       994.000000       0.000000       0.000000      30.000000   \n",
       "75%       996.000000       0.000000       0.000000      46.900000   \n",
       "max      1003.000000       1.000000       2.500000      81.000000   \n",
       "\n",
       "               TModB  Comments  \n",
       "count  525600.000000       0.0  \n",
       "mean       32.471736       NaN  \n",
       "std        12.348743       NaN  \n",
       "min         8.100000       NaN  \n",
       "25%        23.600000       NaN  \n",
       "50%        28.900000       NaN  \n",
       "75%        41.500000       NaN  \n",
       "max        72.500000       NaN  "
      ]
     },
     "execution_count": 87,
     "metadata": {},
     "output_type": "execute_result"
    }
   ],
   "source": [
    "df.select_dtypes(include='number').describe()"
   ]
  },
  {
   "cell_type": "code",
   "execution_count": 88,
   "id": "7a7d9b7a-3ca1-4412-b9e8-fc1c082d1ad5",
   "metadata": {},
   "outputs": [
    {
     "data": {
      "text/plain": [
       "Timestamp             0\n",
       "GHI                   0\n",
       "DNI                   0\n",
       "DHI                   0\n",
       "ModA                  0\n",
       "ModB                  0\n",
       "Tamb                  0\n",
       "RH                    0\n",
       "WS                    0\n",
       "WSgust                0\n",
       "WSstdev               0\n",
       "WD                    0\n",
       "WDstdev               0\n",
       "BP                    0\n",
       "Cleaning              0\n",
       "Precipitation         0\n",
       "TModA                 0\n",
       "TModB                 0\n",
       "Comments         525600\n",
       "dtype: int64"
      ]
     },
     "execution_count": 88,
     "metadata": {},
     "output_type": "execute_result"
    }
   ],
   "source": [
    "df.isna().sum() "
   ]
  },
  {
   "cell_type": "code",
   "execution_count": 89,
   "id": "2b782c4b-4e45-4ebc-a24d-2050cecab709",
   "metadata": {},
   "outputs": [
    {
     "data": {
      "text/plain": [
       "Comments    100.0\n",
       "dtype: float64"
      ]
     },
     "execution_count": 89,
     "metadata": {},
     "output_type": "execute_result"
    }
   ],
   "source": [
    "missing_percent = df.isna().mean() * 100\n",
    "null_column_percentage = missing_percent[missing_percent > 5]\n",
    "null_column_percentage"
   ]
  },
  {
   "cell_type": "markdown",
   "id": "8e380545-e041-4541-8c53-bf82f3045d2a",
   "metadata": {},
   "source": [
    "## Outlier Detection & Basic Cleaning"
   ]
  },
  {
   "cell_type": "markdown",
   "id": "7e390515-f4f3-4b3a-a102-f9d258427547",
   "metadata": {},
   "source": [
    "### 1. Negative values"
   ]
  },
  {
   "cell_type": "code",
   "execution_count": 112,
   "id": "c4b5e262-96c5-4362-8aad-091c7cc92336",
   "metadata": {},
   "outputs": [
    {
     "name": "stdout",
     "output_type": "stream",
     "text": [
      "col GHI has 258847 negative dfs and 49.25% of the data\n",
      "col DNI has 275987 negative dfs and 52.51% of the data\n",
      "col DHI has 259182 negative dfs and 49.31% of the data\n"
     ]
    }
   ],
   "source": [
    "cols = ['GHI','DNI','DHI']\n",
    "for col in cols:\n",
    "    print(f\"col {col} has {len(df[df[col]<0])} negative dfs and {round(len(df[df[col]<0])/len(df)*100,2)}% of the data\")"
   ]
  },
  {
   "cell_type": "markdown",
   "id": "4695e91a-bd4f-4249-ba44-41838ea06aa9",
   "metadata": {},
   "source": [
    "### Action"
   ]
  },
  {
   "cell_type": "code",
   "execution_count": 221,
   "id": "afb9e5b6-3179-4fd2-8144-0413e2b75320",
   "metadata": {},
   "outputs": [],
   "source": [
    "## Replace Negative values with mean value of the column\n",
    "cols = ['GHI','DNI','DHI']\n",
    "for col in cols:\n",
    "    mean_val = df[df[col] >= 0][col].mean()\n",
    "    df[col] = df[col].apply(lambda x: mean_val if x < 0 else x)"
   ]
  },
  {
   "cell_type": "markdown",
   "id": "6f062df8-977f-4fc1-be52-727d9718c2b9",
   "metadata": {},
   "source": [
    "### 2. Outliers"
   ]
  },
  {
   "cell_type": "code",
   "execution_count": 229,
   "id": "b8b7e522-b89e-4832-b8b8-c538f0ed889b",
   "metadata": {},
   "outputs": [
    {
     "name": "stdout",
     "output_type": "stream",
     "text": [
      "col ModA has 0 outliers and 0.0% of the data\n",
      "col ModB has 0 outliers and 0.0% of the data\n",
      "col WS has 489 outliers and 0.09% of the data\n",
      "col WSgust has 0 outliers and 0.0% of the data\n"
     ]
    }
   ],
   "source": [
    "cols = ['ModA', 'ModB', 'WS', 'WSgust']\n",
    "z_scores_df = df[cols].apply(zscore)\n",
    "for col in cols:\n",
    "    outlier_flags = z_scores_df[col].abs() > 3\n",
    "    outlier_rows = df[outlier_flags]\n",
    "    print(f\"col {col} has {len(outlier_rows)} outliers and {round(len(outlier_rows) / len(df) * 100, 2)}% of the data\")\n"
   ]
  },
  {
   "cell_type": "code",
   "execution_count": 210,
   "id": "f5083485-0c1f-4c62-b0e9-2fbe37c3e79e",
   "metadata": {},
   "outputs": [
    {
     "data": {
      "image/png": "[encoded data removed]",
      "text/plain": [
       "<Figure size 2000x400 with 4 Axes>"
      ]
     },
     "metadata": {},
     "output_type": "display_data"
    }
   ],
   "source": [
    "fig, axes = plt.subplots(nrows=1, ncols=len(cols), figsize=(5 * len(cols), 4), sharey=False)\n",
    "\n",
    "for i, col in enumerate(cols):\n",
    "    z_scores = zscore(df[col])\n",
    "    outliers = np.abs(z_scores) > 3\n",
    "\n",
    "    ax = axes[i] if len(cols) > 1 else axes\n",
    "    ax.scatter(df.index, df[col], label='All Data', alpha=0.7)\n",
    "    ax.scatter(df.index[outliers], df.loc[outliers, col], color='r', label='Outliers (Replaced)')\n",
    "    ax.set_title(f'{col}')\n",
    "    ax.set_xlabel('Index')\n",
    "    ax.set_ylabel(col)\n",
    "    ax.legend(loc='upper right')  \n",
    "\n",
    "plt.suptitle('Outlier Visualization (Z > 3)', fontsize=16)\n",
    "plt.tight_layout()\n",
    "plt.show()\n"
   ]
  },
  {
   "cell_type": "markdown",
   "id": "51c53959-b7ae-4a46-b112-1d8d44869abb",
   "metadata": {},
   "source": [
    "### Action"
   ]
  },
  {
   "cell_type": "code",
   "execution_count": 231,
   "id": "053a6f21-edfb-4614-9473-9b19c683d4dd",
   "metadata": {},
   "outputs": [],
   "source": [
    "## Replace Outlier values with mean value of the column\n",
    "cols = ['ModA', 'ModB', 'WS', 'WSgust']\n",
    "for col in cols:\n",
    "    outlier_flags = z_scores_df[col].abs() > 3\n",
    "    outlier_rows = df[outlier_flags]\n",
    "    non_outlier_mean = df.loc[~outlier_flags, col].mean()\n",
    "    df.loc[outlier_flags, col] = non_outlier_mean"
   ]
  },
  {
   "cell_type": "markdown",
   "id": "157500b1-628c-4f7d-b382-b9e9c45f0959",
   "metadata": {},
   "source": [
    "## Remove Columns"
   ]
  },
  {
   "cell_type": "code",
   "execution_count": null,
   "id": "0f624bda-2d57-4cf4-82df-0ce7206b3fa3",
   "metadata": {},
   "outputs": [],
   "source": [
    "df.drop('Comments',  axis=1, inplace=True)"
   ]
  },
  {
   "cell_type": "markdown",
   "id": "554b6851-0b31-4423-8b3d-aa40db0e4f10",
   "metadata": {},
   "source": [
    "## Save Data"
   ]
  },
  {
   "cell_type": "code",
   "execution_count": 239,
   "id": "a3b89048-a2fd-4179-b543-11786f301f88",
   "metadata": {},
   "outputs": [],
   "source": [
    "df.to_csv('../data/benin_clean.csv', index=False)"
   ]
  },
  {
   "cell_type": "code",
   "execution_count": null,
   "id": "b8b06fc5-fb19-4e2e-bd16-55b2f32b714f",
   "metadata": {},
   "outputs": [],
   "source": []
  }
 ],
 "metadata": {
  "kernelspec": {
   "display_name": "Python 3 (ipykernel)",
   "language": "python",
   "name": "python3"
  },
  "language_info": {
   "codemirror_mode": {
    "name": "ipython",
    "version": 3
   },
   "file_extension": ".py",
   "mimetype": "text/x-python",
   "name": "python",
   "nbconvert_exporter": "python",
   "pygments_lexer": "ipython3",
   "version": "3.12.4"
  }
 },
 "nbformat": 4,
 "nbformat_minor": 5
}
